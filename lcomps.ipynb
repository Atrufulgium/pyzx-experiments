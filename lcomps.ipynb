{
 "cells": [
  {
   "cell_type": "code",
   "execution_count": null,
   "id": "25d6d03c-c4d7-45ee-90ba-ed153b16dfa2",
   "metadata": {},
   "outputs": [],
   "source": [
    "from copy import deepcopy\n",
    "from lcomping import *\n",
    "import os\n",
    "circ = zx.generate.CNOT_HAD_PHASE_circuit(10, 500, p_had=0.33, p_t = 0.33)\n",
    "circ = zx.Circuit.load('./circuits/Other/grover_5.qc')\n",
    "g = circ.to_graph()\n",
    "draw = False\n",
    "if draw: zx.draw(g)\n",
    "def verify_done(g : Graph) -> bool:\n",
    "    gclone = deepcopy(g); interior_clifford_simp_alt(gclone, quiet=True)\n",
    "    return g.num_edges() == gclone.num_edges() and g.num_vertices() == gclone.num_vertices()"
   ]
  },
  {
   "cell_type": "code",
   "execution_count": null,
   "id": "1285fd4a-4e47-4b84-b464-89151c1b7abb",
   "metadata": {},
   "outputs": [],
   "source": [
    "gclone = deepcopy(g)\n",
    "# available for both lcomp_map and pivot_map arguments:\n",
    "#     zx.simplify.*_simp          Default. Can also just omit this arg.\n",
    "#     *_simp_shallowest_first:    Goes from inputs to outputs.\n",
    "#     *_simp_deepest_first:       Goes from outputs to inputs.\n",
    "#     *_simp_few_edges†:           Does the pivot/lcomp that results in fewest edges.\n",
    "#     *_simp_many_edges†:          Does the pivot/lcomp that results in most edges.\n",
    "#     *_simp_maintain_edges†:      Does the pivot/lcomp that results in the least change in edges.\n",
    "#     *_simp_introducing_most†:    Does the pivot/lcomp that introduces the most/removes the least pivot/lcomps.\n",
    "# † These variants also have an \"any\" variant that,\n",
    "#   instead of first doing all pivots and then all\n",
    "#   lcomps, goes through both at the same time.\n",
    "interior_clifford_simp_alt(gclone, quiet=True, lcomp_map=lcomp_simp_shallowest_first, pivot_map=pivot_simp_shallowest_first)\n",
    "if draw: zx.draw(gclone, labels=True)\n",
    "print(gclone)\n",
    "print(f\"Done? {verify_done(gclone)}\")"
   ]
  },
  {
   "cell_type": "code",
   "execution_count": null,
   "id": "027130f4-f12a-417e-9bb0-f1b05f91917d",
   "metadata": {},
   "outputs": [],
   "source": [
    "gclone2 = deepcopy(g)\n",
    "# With default arguments this is the standard interior_clifford_simp\n",
    "interior_clifford_simp_alt(gclone2, quiet=True)\n",
    "if draw: zx.draw(gclone2, labels=True)\n",
    "print(gclone2)\n",
    "print(f\"Equal? {zx.extract_circuit(gclone).verify_equality(zx.extract_circuit(gclone2))}\")"
   ]
  },
  {
   "cell_type": "code",
   "execution_count": null,
   "id": "38da460c-a891-4f0c-93ec-2bd98aa2ed51",
   "metadata": {
    "scrolled": true
   },
   "outputs": [],
   "source": [
    "# Grover, best strat\n",
    "circ = zx.Circuit.load('./circuits/Other/grover_5.qc')\n",
    "highlight_first_iter_possible_targets(circ, iters = {0,1,2}, lcomp_map=lcomp_simp_shallowest_first, pivot_map=pivot_simp_shallowest_first)"
   ]
  },
  {
   "cell_type": "code",
   "execution_count": null,
   "id": "01531c32-bd36-46b4-acd0-cd24845c325b",
   "metadata": {},
   "outputs": [],
   "source": [
    "# Grover, pyzx default strat\n",
    "circ = zx.Circuit.load('./circuits/Other/grover_5.qc')\n",
    "highlight_first_iter_possible_targets(circ, iters = {0,1,2})"
   ]
  },
  {
   "cell_type": "code",
   "execution_count": null,
   "id": "5512df07-799a-4d8a-843d-27b10290060e",
   "metadata": {},
   "outputs": [],
   "source": [
    "# Random graph, Grover's best strat (with approximate same gates as Grover)\n",
    "circ = zx.generate.CNOT_HAD_PHASE_circuit(10, 500, p_had=0.17, p_t = 0.4)\n",
    "highlight_first_iter_possible_targets(circ, iters = {0,1,2}, lcomp_map=lcomp_simp_shallowest_first, pivot_map=pivot_simp_shallowest_first)"
   ]
  }
 ],
 "metadata": {
  "kernelspec": {
   "display_name": "Python 3 (ipykernel)",
   "language": "python",
   "name": "python3"
  },
  "language_info": {
   "codemirror_mode": {
    "name": "ipython",
    "version": 3
   },
   "file_extension": ".py",
   "mimetype": "text/x-python",
   "name": "python",
   "nbconvert_exporter": "python",
   "pygments_lexer": "ipython3",
   "version": "3.10.6"
  }
 },
 "nbformat": 4,
 "nbformat_minor": 5
}
