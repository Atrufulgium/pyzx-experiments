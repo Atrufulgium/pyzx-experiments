{
 "cells": [
  {
   "cell_type": "code",
   "execution_count": null,
   "id": "eaf692d0-6f97-4e56-81b7-7d19834ee690",
   "metadata": {},
   "outputs": [],
   "source": [
    "from extract_lcomp import *\n",
    "from graphliker import * # Has all the nice shit imported already\n",
    "from copy import deepcopy\n",
    "import time\n",
    "extra_params[\"max_greed\"] = 20\n",
    "#import random\n",
    "#random.seed(3)"
   ]
  },
  {
   "cell_type": "code",
   "execution_count": null,
   "id": "5eb7576a-d4ab-4482-8ad4-8b588ed7121a",
   "metadata": {},
   "outputs": [],
   "source": [
    "circ = zx.generate.CNOT_HAD_PHASE_circuit(10, 800)\n",
    "g = circ.to_graph()\n",
    "zx.simplify.full_reduce(g, quiet = True)\n",
    "g.normalize()\n",
    "zx.draw(g)"
   ]
  },
  {
   "cell_type": "code",
   "execution_count": null,
   "id": "586dba9b-56de-42c8-907f-83b7dfb51e09",
   "metadata": {},
   "outputs": [],
   "source": [
    "strats = [(zx.extract_circuit, \"PyZX extract\"), (extract_circuit, \"Injected Extract\")]\n",
    "prev_out = None\n",
    "first_two_qubit_gatecount = None\n",
    "first_time = None\n",
    "\n",
    "compare = True\n",
    "\n",
    "for (func, name) in strats:\n",
    "    t_start = time.perf_counter()\n",
    "    out = func(deepcopy(g))\n",
    "    t_end = time.perf_counter()\n",
    "    out = zx.optimize.basic_optimization(out.to_basic_gates(), do_swaps = True).to_basic_gates()\n",
    "    delta_time = t_end - t_start\n",
    "    print(f\"Strategy {name} ({delta_time:0.4f}s):\")\n",
    "    print(out.stats())\n",
    "    zx.draw(out)\n",
    "\n",
    "    if first_two_qubit_gatecount == None:\n",
    "        first_two_qubit_gatecount = out.twoqubitcount()\n",
    "        first_time = delta_time\n",
    "    else:\n",
    "        print(\"\")\n",
    "        two_qubit_gatecount = out.twoqubitcount()\n",
    "        percentage = int(100 * two_qubit_gatecount / first_two_qubit_gatecount) - 100\n",
    "        print(f\"GATE COUNT CHANGE: {percentage:+4}% ({first_two_qubit_gatecount} ↦ {two_qubit_gatecount})\")\n",
    "        percentage = int(100 * delta_time / first_time)\n",
    "        print(f\"      PERFORMANCE: {percentage:4}% ({first_time:0.4f}s ↦ {delta_time:0.4f}s)\")\n",
    "        print(\"\")\n",
    "\n",
    "    if compare and prev_out != None:\n",
    "        print(\"Starting comparison\")\n",
    "        if not zx.compare_tensors(out, prev_out):\n",
    "            raise ValueError(\"welp\")\n",
    "        print(\"Finished comparison: no problems\")\n",
    "    prev_out = out"
   ]
  }
 ],
 "metadata": {
  "kernelspec": {
   "display_name": "Python 3 (ipykernel)",
   "language": "python",
   "name": "python3"
  },
  "language_info": {
   "codemirror_mode": {
    "name": "ipython",
    "version": 3
   },
   "file_extension": ".py",
   "mimetype": "text/x-python",
   "name": "python",
   "nbconvert_exporter": "python",
   "pygments_lexer": "ipython3",
   "version": "3.10.6"
  }
 },
 "nbformat": 4,
 "nbformat_minor": 5
}
